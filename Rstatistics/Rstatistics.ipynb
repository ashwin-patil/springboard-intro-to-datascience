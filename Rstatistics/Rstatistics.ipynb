{
 "cells": [
  {
   "cell_type": "markdown",
   "metadata": {},
   "source": [
    "Introduction\n",
    "============\n",
    "\n",
    "Workshop description\n",
    "--------------------\n",
    "\n",
    "-   This is an intermediate/advanced R course\n",
    "-   Appropriate for those with basic knowledge of R\n",
    "-   This is not a statistics course!\n",
    "-   Learning objectives:\n",
    "    -   Learn the R formula interface\n",
    "    -   Specify factor contrasts to test specific hypotheses\n",
    "    -   Perform model comparisons\n",
    "    -   Run and interpret variety of regression models in R\n",
    "\n",
    "<div class=\"materials-no-ipynb\">\n",
    "\n",
    "Materials and Setup<span class=\"tag\" data-tag-name=\"labsetup\"></span>\n",
    "---------------------------------------------------------------------\n",
    "\n",
    "Lab computer users: Log in using the user name and password on the board to your left.\n",
    "\n",
    "Laptop users:\n",
    "\n",
    "-   you should have R installed--if not, open a web browser and go to <http://cran.r-project.org> and download and install it\n",
    "-   also helpful to install RStudo (download from <http://rstudio.com>)\n",
    "\n",
    "Everyone:\n",
    "\n",
    "-   Download materials from <http://tutorials.iq.harvard.edu/R/Rstatistics.zip>\n",
    "-   Extract materials from RStatistics.zip (on lab machines *right-click -&gt; WinZip -&gt; Extract to here*) and move to your desktop.\n",
    "\n",
    "Launch RStudio<span class=\"tag\" data-tag-name=\"labsetup\"></span>\n",
    "----------------------------------------------------------------\n",
    "\n",
    "-   Open the RStudio program from the Windows start menu\n",
    "-   Open up today's R script\n",
    "    -   In RStudio, Go to **File =&gt; Open Script**\n",
    "    -   Locate and open the `Rstatistics.R` script in the Rstatistics folder on your desktop\n",
    "-   Go to **Tools =&gt; Set working directory =&gt; To source file location** (more on the working directory later)\n",
    "-   I encourage you to add your own notes to this file!\n",
    "\n",
    "</div>\n",
    "\n",
    "Set working directory\n",
    "---------------------\n",
    "\n",
    "It is often helpful to start your R session by setting your working directory so you don't have to type the full path names to your data and other files"
   ]
  },
  {
   "cell_type": "code",
   "execution_count": null,
   "metadata": {},
   "outputs": [],
   "source": [
    "  # set the working directory\n",
    "  # setwd(\"~/Desktop/Rstatistics\")\n",
    "  # setwd(\"C:/Users/dataclass/Desktop/Rstatistics\")"
   ]
  },
  {
   "cell_type": "markdown",
   "metadata": {},
   "source": [
    "You might also start by listing the files in your working directory"
   ]
  },
  {
   "cell_type": "code",
   "execution_count": null,
   "metadata": {},
   "outputs": [],
   "source": [
    "  getwd() # where am I?\n",
    "  list.files(\"dataSets\") # files in the dataSets folder"
   ]
  },
  {
   "cell_type": "markdown",
   "metadata": {},
   "source": [
    "Load the states data\n",
    "--------------------\n",
    "\n",
    "The *states.dta* data comes from <http://anawida.de/teach/SS14/anawida/4.linReg/data/states.dta.txt> and appears to have originally appeared in *Statistics with Stata* by Lawrence C. Hamilton."
   ]
  },
  {
   "cell_type": "code",
   "execution_count": null,
   "metadata": {},
   "outputs": [],
   "source": [
    "  # read the states data\n",
    "  states.data <- readRDS(\"dataSets/states.rds\") \n",
    "  #get labels\n",
    "  states.info <- data.frame(attributes(states.data)[c(\"names\", \"var.labels\")])\n",
    "  #look at last few labels\n",
    "  tail(states.info, 8)"
   ]
  },
  {
   "cell_type": "markdown",
   "metadata": {},
   "source": [
    "Linear regression\n",
    "=================\n",
    "\n",
    "Examine the data before fitting models\n",
    "--------------------------------------\n",
    "\n",
    "Start by examining the data to check for problems."
   ]
  },
  {
   "cell_type": "code",
   "execution_count": null,
   "metadata": {},
   "outputs": [],
   "source": [
    "  # summary of expense and csat columns, all rows\n",
    "  sts.ex.sat <- subset(states.data, select = c(\"expense\", \"csat\"))\n",
    "  summary(sts.ex.sat)\n",
    "  # correlation between expense and csat\n",
    "  cor(sts.ex.sat) "
   ]
  },
  {
   "cell_type": "markdown",
   "metadata": {},
   "source": [
    "Plot the data before fitting models\n",
    "-----------------------------------\n",
    "\n",
    "Plot the data to look for multivariate outliers, non-linear relationships etc."
   ]
  },
  {
   "cell_type": "code",
   "execution_count": null,
   "metadata": {},
   "outputs": [],
   "source": [
    "  # scatter plot of expense vs csat\n",
    "  plot(sts.ex.sat)"
   ]
  },
  {
   "cell_type": "markdown",
   "metadata": {},
   "source": [
    "![](images/statesCorr1.png)\n",
    "\n",
    "Linear regression example\n",
    "-------------------------\n",
    "\n",
    "-   Linear regression models can be fit with the `lm()` function\n",
    "-   For example, we can use `lm` to predict SAT scores based on per-pupal expenditures:"
   ]
  },
  {
   "cell_type": "code",
   "execution_count": null,
   "metadata": {},
   "outputs": [],
   "source": [
    "  # Fit our regression model\n",
    "  sat.mod <- lm(csat ~ expense, # regression formula\n",
    "                data=states.data) # data set\n",
    "  # Summarize and print the results\n",
    "  summary(sat.mod) # show regression coefficients table"
   ]
  },
  {
   "cell_type": "markdown",
   "metadata": {},
   "source": [
    "Why is the association between expense and SAT scores *negative*?\n",
    "-----------------------------------------------------------------\n",
    "\n",
    "Many people find it surprising that the per-capita expenditure on students is negatively related to SAT scores. The beauty of multiple regression is that we can try to pull these apart. What would the association between expense and SAT scores be if there were no difference among the states in the percentage of students taking the SAT?"
   ]
  },
  {
   "cell_type": "code",
   "execution_count": null,
   "metadata": {},
   "outputs": [],
   "source": [
    "  summary(lm(csat ~ expense + percent, data = states.data))"
   ]
  },
  {
   "cell_type": "markdown",
   "metadata": {},
   "source": [
    "The lm class and methods\n",
    "------------------------\n",
    "\n",
    "OK, we fit our model. Now what?\n",
    "\n",
    "-   Examine the model object:"
   ]
  },
  {
   "cell_type": "code",
   "execution_count": null,
   "metadata": {},
   "outputs": [],
   "source": [
    "  class(sat.mod)\n",
    "  names(sat.mod)\n",
    "  methods(class = class(sat.mod))[1:9]"
   ]
  },
  {
   "cell_type": "markdown",
   "metadata": {},
   "source": [
    "-   Use function methods to get more information about the fit"
   ]
  },
  {
   "cell_type": "code",
   "execution_count": null,
   "metadata": {},
   "outputs": [],
   "source": [
    "  confint(sat.mod)\n",
    "  # hist(residuals(sat.mod))"
   ]
  },
  {
   "cell_type": "markdown",
   "metadata": {},
   "source": [
    "Linear Regression Assumptions\n",
    "-----------------------------\n",
    "\n",
    "-   Ordinary least squares regression relies on several assumptions, including that the residuals are normally distributed and homoscedastic, the errors are independent and the relationships are linear.\n",
    "-   Investigate these assumptions visually by plotting your model:"
   ]
  },
  {
   "cell_type": "code",
   "execution_count": null,
   "metadata": {},
   "outputs": [],
   "source": [
    "  par(mar = c(4, 4, 2, 2), mfrow = c(1, 2)) #optional\n",
    "  plot(sat.mod, which = c(1, 2)) # \"which\" argument optional"
   ]
  },
  {
   "cell_type": "markdown",
   "metadata": {},
   "source": [
    "Comparing models\n",
    "----------------\n",
    "\n",
    "Do congressional voting patterns predict SAT scores over and above expense? Fit two models and compare them:"
   ]
  },
  {
   "cell_type": "code",
   "execution_count": null,
   "metadata": {},
   "outputs": [],
   "source": [
    "  # fit another model, adding house and senate as predictors\n",
    "  sat.voting.mod <-  lm(csat ~ expense + house + senate,\n",
    "                        data = na.omit(states.data))\n",
    "  sat.mod <- update(sat.mod, data=na.omit(states.data))\n",
    "  # compare using the anova() function\n",
    "  anova(sat.mod, sat.voting.mod)\n",
    "  coef(summary(sat.voting.mod))"
   ]
  },
  {
   "cell_type": "markdown",
   "metadata": {},
   "source": [
    "Exercise 0: least squares regression\n",
    "------------------------------------\n",
    "\n",
    "Use the *states.rds* data set. Fit a model predicting energy consumed per capita (energy) from the percentage of residents living in metropolitan areas (metro). Be sure to\n",
    "\n",
    "1.  Examine/plot the data before fitting the model\n",
    "2.  Print and interpret the model `summary`\n",
    "3.  `plot` the model to look for deviations from modeling assumptions\n",
    "\n",
    "Select one or more additional predictors to add to your model and repeat steps 1-3. Is this model significantly better than the model with *metro* as the only predictor?\n",
    "\n",
    "Interactions and factors\n",
    "========================\n",
    "\n",
    "Modeling interactions\n",
    "---------------------\n",
    "\n",
    "Interactions allow us assess the extent to which the association between one predictor and the outcome depends on a second predictor. For example: Does the association between expense and SAT scores depend on the median income in the state?"
   ]
  },
  {
   "cell_type": "code",
   "execution_count": null,
   "metadata": {},
   "outputs": [],
   "source": [
    "    #Add the interaction to the model\n",
    "  sat.expense.by.percent <- lm(csat ~ expense*income,\n",
    "                               data=states.data) \n",
    "  #Show the results\n",
    "    coef(summary(sat.expense.by.percent)) # show regression coefficients table"
   ]
  },
  {
   "cell_type": "markdown",
   "metadata": {},
   "source": [
    "Regression with categorical predictors\n",
    "--------------------------------------\n",
    "\n",
    "Let's try to predict SAT scores from region, a categorical variable. Note that you must make sure R does not think your categorical variable is numeric."
   ]
  },
  {
   "cell_type": "code",
   "execution_count": null,
   "metadata": {},
   "outputs": [],
   "source": [
    "  # make sure R knows region is categorical\n",
    "  str(states.data$region)\n",
    "  states.data$region <- factor(states.data$region)\n",
    "  #Add region to the model\n",
    "  sat.region <- lm(csat ~ region,\n",
    "                   data=states.data) \n",
    "  #Show the results\n",
    "  coef(summary(sat.region)) # show regression coefficients table\n",
    "  anova(sat.region) # show ANOVA table"
   ]
  },
  {
   "cell_type": "markdown",
   "metadata": {},
   "source": [
    "Again, **make sure to tell R which variables are categorical by converting them to factors!**\n",
    "\n",
    "Setting factor reference groups and contrasts\n",
    "---------------------------------------------\n",
    "\n",
    "In the previous example we use the default contrasts for region. The default in R is treatment contrasts, with the first level as the reference. We can change the reference group or use another coding scheme using the `C` function."
   ]
  },
  {
   "cell_type": "code",
   "execution_count": null,
   "metadata": {},
   "outputs": [],
   "source": [
    "  # print default contrasts\n",
    "  contrasts(states.data$region)\n",
    "  # change the reference group\n",
    "  coef(summary(lm(csat ~ C(region, base=4),\n",
    "                  data=states.data)))\n",
    "  # change the coding scheme\n",
    "  coef(summary(lm(csat ~ C(region, contr.helmert),\n",
    "                  data=states.data)))"
   ]
  },
  {
   "cell_type": "markdown",
   "metadata": {},
   "source": [
    "See also `?contrasts`, `?contr.treatment`, and `?relevel`.\n",
    "\n",
    "Exercise 1: interactions and factors\n",
    "------------------------------------\n",
    "\n",
    "Use the states data set.\n",
    "\n",
    "1.  Add on to the regression equation that you created in exercise 1 by generating an interaction term and testing the interaction.\n",
    "\n",
    "2.  Try adding region to the model. Are there significant differences across the four regions?\n",
    "\n",
    "Regression with binary outcomes\n",
    "===============================\n",
    "\n",
    "Logistic regression\n",
    "-------------------\n",
    "\n",
    "This far we have used the `lm` function to fit our regression models. `lm` is great, but limited--in particular it only fits models for continuous dependent variables. For categorical dependent variables we can use the `glm()` function.\n",
    "\n",
    "For these models we will use a different dataset, drawn from the National Health Interview Survey. From the [CDC website](http://www.cdc.gov/nchs/nhis.htm):\n",
    "\n",
    "> The National Health Interview Survey (NHIS) has monitored the health of the nation since 1957. NHIS data on a broad range of health topics are collected through personal household interviews. For over 50 years, the U.S. Census Bureau has been the data collection agent for the National Health Interview Survey. Survey results have been instrumental in providing data to track health status, health care access, and progress toward achieving national health objectives.\n",
    "\n",
    "Load the National Health Interview Survey data:"
   ]
  },
  {
   "cell_type": "code",
   "execution_count": null,
   "metadata": {},
   "outputs": [],
   "source": [
    "  NH11 <- readRDS(\"dataSets/NatHealth2011.rds\")\n",
    "  labs <- attributes(NH11)$labels"
   ]
  },
  {
   "cell_type": "markdown",
   "metadata": {},
   "source": [
    "Logistic regression example\n",
    "---------------------------\n",
    "\n",
    "Let's predict the probability of being diagnosed with hypertension based on age, sex, sleep, and bmi"
   ]
  },
  {
   "cell_type": "code",
   "execution_count": null,
   "metadata": {},
   "outputs": [],
   "source": [
    "  str(NH11$hypev) # check stucture of hypev\n",
    "  levels(NH11$hypev) # check levels of hypev\n",
    "  # collapse all missing values to NA\n",
    "  NH11$hypev <- factor(NH11$hypev, levels=c(\"2 No\", \"1 Yes\"))\n",
    "  # run our regression model\n",
    "  hyp.out <- glm(hypev~age_p+sex+sleep+bmi,\n",
    "                data=NH11, family=\"binomial\")\n",
    "  coef(summary(hyp.out))"
   ]
  },
  {
   "cell_type": "markdown",
   "metadata": {},
   "source": [
    "Logistic regression coefficients\n",
    "--------------------------------\n",
    "\n",
    "Generalized linear models use link functions, so raw coefficients are difficult to interpret. For example, the age coefficient of .06 in the previous model tells us that for every one unit increase in age, the log odds of hypertension diagnosis increases by 0.06. Since most of us are not used to thinking in log odds this is not too helpful!\n",
    "\n",
    "One solution is to transform the coefficients to make them easier to interpret"
   ]
  },
  {
   "cell_type": "code",
   "execution_count": null,
   "metadata": {},
   "outputs": [],
   "source": [
    "  hyp.out.tab <- coef(summary(hyp.out))\n",
    "  hyp.out.tab[, \"Estimate\"] <- exp(coef(hyp.out))\n",
    "  hyp.out.tab"
   ]
  },
  {
   "cell_type": "markdown",
   "metadata": {},
   "source": [
    "Generating predicted values\n",
    "---------------------------\n",
    "\n",
    "In addition to transforming the log-odds produced by `glm` to odds, we can use the `predict()` function to make direct statements about the predictors in our model. For example, we can ask \"How much more likely is a 63 year old female to have hypertension compared to a 33 year old female?\"."
   ]
  },
  {
   "cell_type": "code",
   "execution_count": null,
   "metadata": {},
   "outputs": [],
   "source": [
    "  # Create a dataset with predictors set at desired levels\n",
    "  predDat <- with(NH11,\n",
    "                  expand.grid(age_p = c(33, 63),\n",
    "                              sex = \"2 Female\",\n",
    "                              bmi = mean(bmi, na.rm = TRUE),\n",
    "                              sleep = mean(sleep, na.rm = TRUE)))\n",
    "  # predict hypertension at those levels\n",
    "  cbind(predDat, predict(hyp.out, type = \"response\",\n",
    "                         se.fit = TRUE, interval=\"confidence\",\n",
    "                         newdata = predDat))"
   ]
  },
  {
   "cell_type": "markdown",
   "metadata": {},
   "source": [
    "This tells us that a 33 year old female has a 13% probability of having been diagnosed with hypertension, while and 63 year old female has a 48% probability of having been diagnosed.\n",
    "\n",
    "Packages for computing and graphing predicted values\n",
    "----------------------------------------------------\n",
    "\n",
    "Instead of doing all this ourselves, we can use the effects package to compute quantities of interest for us (cf. the Zelig package)."
   ]
  },
  {
   "cell_type": "code",
   "execution_count": null,
   "metadata": {},
   "outputs": [],
   "source": [
    "  library(effects)\n",
    "  plot(allEffects(hyp.out))"
   ]
  },
  {
   "cell_type": "markdown",
   "metadata": {},
   "source": [
    "![](images/effects1.png)\n",
    "\n",
    "Exercise 2: logistic regression\n",
    "-------------------------------\n",
    "\n",
    "Use the NH11 data set that we loaded earlier.\n",
    "\n",
    "1.  Use glm to conduct a logistic regression to predict ever worked (everwrk) using age (age<sub>p</sub>) and marital status (r<sub>maritl</sub>).\n",
    "2.  Predict the probability of working for each level of marital status.\n",
    "\n",
    "Note that the data is not perfectly clean and ready to be modeled. You will need to clean up at least some of the variables before fitting the model.\n",
    "\n",
    "Multilevel Modeling\n",
    "===================\n",
    "\n",
    "Multilevel modeling overview\n",
    "----------------------------\n",
    "\n",
    "-   Multi-level (AKA hierarchical) models are a type of mixed-effects models\n",
    "-   Used to model variation due to group membership where the goal is to generalize to a population of groups\n",
    "-   Can model different intercepts and/or slopes for each group\n",
    "-   Mixed-effecs models include two types of predictors: fixed-effects and random effects\n",
    "    -   Fixed-effects -- observed levels are of direct interest (.e.g, sex, political party...)\n",
    "    -   Random-effects -- observed levels not of direct interest: goal is to make inferences to a population represented by observed levels\n",
    "-   In R the lme4 package is the most popular for mixed effects models\n",
    "    -   Use the `lmer` function for liner mixed models, `glmer` for generalized mixed models"
   ]
  },
  {
   "cell_type": "code",
   "execution_count": null,
   "metadata": {},
   "outputs": [],
   "source": [
    "  library(lme4)"
   ]
  },
  {
   "cell_type": "markdown",
   "metadata": {},
   "source": [
    "The Exam data\n",
    "-------------\n",
    "\n",
    "The Exam data set contans exam scores of 4,059 students from 65 schools in Inner London. The variable names are as follows:\n",
    "\n",
    "| variable | Description                                                                                        |\n",
    "|----------|----------------------------------------------------------------------------------------------------|\n",
    "| school   | School ID - a factor.                                                                              |\n",
    "| normexam | Normalized exam score.                                                                             |\n",
    "| schgend  | School gender - a factor. Levels are 'mixed', 'boys', and 'girls'.                                 |\n",
    "| schavg   | School average of intake score.                                                                    |\n",
    "| vr       | Student level Verbal Reasoning (VR) score band at intake - 'bottom 25%', 'mid 50%', and 'top 25%'. |\n",
    "| intake   | Band of student's intake score - a factor. Levels are 'bottom 25%', 'mid 50%' and 'top 25%'./      |\n",
    "| standLRT | Standardised LR test score.                                                                        |\n",
    "| sex      | Sex of the student - levels are 'F' and 'M'.                                                       |\n",
    "| type     | School type - levels are 'Mxd' and 'Sngl'.                                                         |\n",
    "| student  | Student id (within school) - a factor                                                              |"
   ]
  },
  {
   "cell_type": "code",
   "execution_count": null,
   "metadata": {},
   "outputs": [],
   "source": [
    "  Exam <- readRDS(\"dataSets/Exam.rds\")"
   ]
  },
  {
   "cell_type": "markdown",
   "metadata": {},
   "source": [
    "The null model and ICC\n",
    "----------------------\n",
    "\n",
    "As a preliminary step it is often useful to partition the variance in the dependent variable into the various levels. This can be accomplished by running a null model (i.e., a model with a random effects grouping structure, but no fixed-effects predictors)."
   ]
  },
  {
   "cell_type": "code",
   "execution_count": null,
   "metadata": {},
   "outputs": [],
   "source": [
    "  # null model, grouping by school but not fixed effects.\n",
    "  Norm1 <-lmer(normexam ~ 1 + (1|school),\n",
    "                data=Exam, REML = FALSE)\n",
    "  summary(Norm1)"
   ]
  },
  {
   "cell_type": "markdown",
   "metadata": {},
   "source": [
    "The is .169/(.169 + .848) = .17: 17% of the variance is at the school level.\n",
    "\n",
    "Adding fixed-effects predictors\n",
    "-------------------------------\n",
    "\n",
    "Predict exam scores from student's standardized tests scores"
   ]
  },
  {
   "cell_type": "code",
   "execution_count": null,
   "metadata": {},
   "outputs": [],
   "source": [
    "  Norm2 <-lmer(normexam~standLRT + (1|school),\n",
    "               data=Exam,\n",
    "               REML = FALSE) \n",
    "  summary(Norm2) "
   ]
  },
  {
   "cell_type": "markdown",
   "metadata": {},
   "source": [
    "Multiple degree of freedom comparisons\n",
    "--------------------------------------\n",
    "\n",
    "As with `lm` and `glm` models, you can compare the two `lmer` models using the `anova` function."
   ]
  },
  {
   "cell_type": "code",
   "execution_count": null,
   "metadata": {},
   "outputs": [],
   "source": [
    "  anova(Norm1, Norm2)"
   ]
  },
  {
   "cell_type": "markdown",
   "metadata": {},
   "source": [
    "Random slopes\n",
    "-------------\n",
    "\n",
    "Add a random effect of students' standardized test scores as well. Now in addition to estimating the distribution of intercepts across schools, we also estimate the distribution of the slope of exam on standardized test."
   ]
  },
  {
   "cell_type": "code",
   "execution_count": null,
   "metadata": {},
   "outputs": [],
   "source": [
    "  Norm3 <- lmer(normexam~standLRT + (standLRT|school), data=Exam,\n",
    "                 REML = FALSE) \n",
    "  summary(Norm3) "
   ]
  },
  {
   "cell_type": "markdown",
   "metadata": {},
   "source": [
    "Test the significance of the random slope\n",
    "-----------------------------------------\n",
    "\n",
    "To test the significance of a random slope just compare models with and without the random slope term"
   ]
  },
  {
   "cell_type": "code",
   "execution_count": null,
   "metadata": {},
   "outputs": [],
   "source": [
    "  anova(Norm2, Norm3) "
   ]
  },
  {
   "cell_type": "markdown",
   "metadata": {},
   "source": [
    "Exercise 3: multilevel modeling\n",
    "-------------------------------\n",
    "\n",
    "Use the dataset, bh1996: src<sub>R</sub>\\[\\]{data(bh1996, package=\"multilevel\")}\n",
    "\n",
    "From the data documentation:\n",
    "\n",
    "> Variables are Cohesion (COHES), Leadership Climate (LEAD), Well-Being (WBEING) and Work Hours (HRS). Each of these variables has two variants - a group mean version that replicates each group mean for every individual, and a within-group version where the group mean is subtracted from each individual response. The group mean version is designated with a G. (e.g., G.HRS), and the within-group version is designated with a W. (e.g., W.HRS).\n",
    "\n",
    "1.  Create a null model predicting wellbeing (\"WBEING\")\n",
    "2.  Calculate the ICC for your null model\n",
    "3.  Run a second multi-level model that adds two individual-level predictors, average number of hours worked (\"HRS\") and leadership skills (\"LEAD\") to the model and interpret your output.\n",
    "4.  Now, add a random effect of average number of hours worked (\"HRS\") to the model and interpret your output. Test the significance of this random term.\n",
    "\n",
    "Exercise solutions<span class=\"tag\" data-tag-name=\"prototype\"></span>\n",
    "=====================================================================\n",
    "\n",
    "Exercise 0 prototype\n",
    "--------------------\n",
    "\n",
    "Use the *states.rds* data set."
   ]
  },
  {
   "cell_type": "code",
   "execution_count": null,
   "metadata": {},
   "outputs": [],
   "source": [
    "  states <- readRDS(\"dataSets/states.rds\")"
   ]
  },
  {
   "cell_type": "markdown",
   "metadata": {},
   "source": [
    "Fit a model predicting energy consumed per capita (energy) from the percentage of residents living in metropolitan areas (metro). Be sure to\n",
    "\n",
    "1.  \\[@1\\] Examine/plot the data before fitting the model"
   ]
  },
  {
   "cell_type": "code",
   "execution_count": null,
   "metadata": {},
   "outputs": [],
   "source": [
    "  states.en.met <- subset(states, select = c(\"metro\", \"energy\"))\n",
    "  summary(states.en.met)\n",
    "  plot(states.en.met)\n",
    "  cor(states.en.met, use=\"pairwise\")"
   ]
  },
  {
   "cell_type": "markdown",
   "metadata": {},
   "source": [
    "1.  \\[@2\\] Print and interpret the model `summary`"
   ]
  },
  {
   "cell_type": "code",
   "execution_count": null,
   "metadata": {},
   "outputs": [],
   "source": [
    "  mod.en.met <- lm(energy ~ metro, data = states)\n",
    "  summary(mod.en.met)"
   ]
  },
  {
   "cell_type": "markdown",
   "metadata": {},
   "source": [
    "1.  \\[@3\\] `plot` the model to look for deviations from modeling assumptions"
   ]
  },
  {
   "cell_type": "code",
   "execution_count": null,
   "metadata": {},
   "outputs": [],
   "source": [
    "  plot(mod.en.met)"
   ]
  },
  {
   "cell_type": "markdown",
   "metadata": {},
   "source": [
    "Select one or more additional predictors to add to your model and repeat steps 1-3. Is this model significantly better than the model with *metro* as the only predictor?"
   ]
  },
  {
   "cell_type": "code",
   "execution_count": null,
   "metadata": {},
   "outputs": [],
   "source": [
    "  states.en.met.pop.wst <- subset(states, select = c(\"energy\", \"metro\", \"pop\", \"waste\"))\n",
    "  summary(states.en.met.pop.wst)\n",
    "  plot(states.en.met.pop.wst)\n",
    "  cor(states.en.met.pop.wst, use = \"pairwise\")\n",
    "  mod.en.met.pop.waste <- lm(energy ~ metro + pop + waste, data = states)\n",
    "  summary(mod.en.met.pop.waste)\n",
    "  anova(mod.en.met, mod.en.met.pop.waste)"
   ]
  },
  {
   "cell_type": "markdown",
   "metadata": {},
   "source": [
    "Exercise 1: prototype\n",
    "---------------------\n",
    "\n",
    "Use the states data set.\n",
    "\n",
    "1.  Add on to the regression equation that you created in exercise 1 by generating an interaction term and testing the interaction."
   ]
  },
  {
   "cell_type": "code",
   "execution_count": null,
   "metadata": {},
   "outputs": [],
   "source": [
    "  mod.en.metro.by.waste <- lm(energy ~ metro * waste, data = states)"
   ]
  },
  {
   "cell_type": "markdown",
   "metadata": {},
   "source": [
    "1.  Try adding a region to the model. Are there significant differences across the four regions?"
   ]
  },
  {
   "cell_type": "code",
   "execution_count": null,
   "metadata": {},
   "outputs": [],
   "source": [
    "  mod.en.region <- lm(energy ~ metro * waste + region, data = states)\n",
    "  anova(mod.en.region)"
   ]
  },
  {
   "cell_type": "markdown",
   "metadata": {},
   "source": [
    "Exercise 2 prototype\n",
    "--------------------\n",
    "\n",
    "Use the NH11 data set that we loaded earlier. Note that the data is not perfectly clean and ready to be modeled. You will need to clean up at least some of the variables before fitting the model.\n",
    "\n",
    "1.  \\[@1\\] Use glm to conduct a logistic regression to predict ever worked (everwrk) using age (age<sub>p</sub>) and marital status (r<sub>maritl</sub>)."
   ]
  },
  {
   "cell_type": "code",
   "execution_count": null,
   "metadata": {},
   "outputs": [],
   "source": [
    "  nh11.wrk.age.mar <- subset(NH11, select = c(\"everwrk\", \"age_p\", \"r_maritl\"))\n",
    "  summary(nh11.wrk.age.mar)\n",
    "  NH11 <- transform(NH11,\n",
    "                    everwrk = factor(everwrk,\n",
    "                        levels = c(\"1 Yes\", \"2 No\")),\n",
    "                    r_maritl = droplevels(r_maritl))\n",
    "\n",
    "  mod.wk.age.mar <- glm(everwrk ~ age_p + r_maritl, data = NH11,\n",
    "                        family = \"binomial\")\n",
    "\n",
    "  summary(mod.wk.age.mar)"
   ]
  },
  {
   "cell_type": "markdown",
   "metadata": {},
   "source": [
    "1.  \\[@2\\] Predict the probability of working for each level of marital status."
   ]
  },
  {
   "cell_type": "code",
   "execution_count": null,
   "metadata": {},
   "outputs": [],
   "source": [
    "  library(effects)\n",
    "  data.frame(Effect(\"r_maritl\", mod.wk.age.mar))"
   ]
  },
  {
   "cell_type": "markdown",
   "metadata": {},
   "source": [
    "Exercise 3 prototype\n",
    "--------------------\n",
    "\n",
    "Use the dataset, bh1996:"
   ]
  },
  {
   "cell_type": "code",
   "execution_count": null,
   "metadata": {},
   "outputs": [],
   "source": [
    "  data(bh1996, package=\"multilevel\")"
   ]
  },
  {
   "cell_type": "markdown",
   "metadata": {},
   "source": [
    "From the data documentation:\n",
    "\n",
    "> Variables are Cohesion (COHES), Leadership Climate (LEAD), Well-Being (WBEING) and Work Hours (HRS). Each of these variables has two variants - a group mean version that replicates each group mean for every individual, and a within-group version where the group mean is subtracted from each individual response. The group mean version is designated with a G. (e.g., G.HRS), and the within-group version is designated with a W. (e.g., W.HRS).\n",
    "\n",
    "Note that the group identifier is named \"GRP\".\n",
    "\n",
    "1.  \\[@1\\] Create a null model predicting wellbeing (\"WBEING\")"
   ]
  },
  {
   "cell_type": "code",
   "execution_count": null,
   "metadata": {},
   "outputs": [],
   "source": [
    "  library(lme4)\n",
    "  mod.grp0 <- lmer(WBEING ~ 1 + (1 | GRP), data = bh1996)\n",
    "  summary(mod.grp0)"
   ]
  },
  {
   "cell_type": "markdown",
   "metadata": {},
   "source": [
    "`> library(lme4)\n",
    "> mod.grp0 <- lmer(WBEING ~ 1 + (1 | GRP), data ` bh1996) &gt; summary(mod.grp0) Linear mixed model fit by REML \\['lmerMod'\\] Formula: WBEING ~ 1 + (1 | GRP) Data: bh1996\n",
    "\n",
    "REML criterion at convergence: 19347\n",
    "\n",
    "Scaled residuals: Min 1Q Median 3Q Max -3.322 -0.648 0.031 0.718 2.667\n",
    "\n",
    "Random effects: Groups Name Variance Std.Dev. GRP (Intercept) 0.0358 0.189 Residual 0.7895 0.889 Number of obs: 7382, groups: GRP, 99\n",
    "\n",
    "Fixed effects: Estimate Std. Error t value (Intercept) 2.7743 0.0222 125 &gt; `2. [@2] Calculate the ICC for your null model\n",
    " ~ICC ` .0358/(.0358 + .7895) = .04~\n",
    "\n",
    "1.  \\[@3\\] Run a second multi-level model that adds two individual-level predictors, average number of hours worked (\"HRS\") and leadership skills (\"LEAD\") to the model and interpret your output."
   ]
  },
  {
   "cell_type": "code",
   "execution_count": null,
   "metadata": {},
   "outputs": [],
   "source": [
    "  mod.grp1 <- lmer(WBEING ~ HRS + LEAD + (1 | GRP), data = bh1996)\n",
    "  summary(mod.grp1)"
   ]
  },
  {
   "cell_type": "markdown",
   "metadata": {},
   "source": [
    "1.  \\[@4\\] Now, add a random effect of average number of hours worked (\"HRS\") to the model and interpret your output. Test the significance of this random term."
   ]
  },
  {
   "cell_type": "code",
   "execution_count": null,
   "metadata": {},
   "outputs": [],
   "source": [
    "  mod.grp2 <- lmer(WBEING ~ HRS + LEAD + (1 + HRS | GRP), data = bh1996)\n",
    "  anova(mod.grp1, mod.grp2)"
   ]
  },
  {
   "cell_type": "markdown",
   "metadata": {},
   "source": [
    "Wrap-up\n",
    "=======\n",
    "\n",
    "Help us make this workshop better!\n",
    "----------------------------------\n",
    "\n",
    "-   Please take a moment to fill out a very short\n",
    "\n",
    "feedback form\n",
    "\n",
    "-   These workshops exist for you -- tell us what you need!\n",
    "-   <http://tinyurl.com/RstatisticsFeedback>\n",
    "\n",
    "Additional resources\n",
    "--------------------\n",
    "\n",
    "-   IQSS workshops: <http://projects.iq.harvard.edu/rtc/filter_by/workshops>\n",
    "-   IQSS statistical consulting: <http://dss.iq.harvard.edu>\n",
    "-   Zelig\n",
    "    -   Website: <http://gking.harvard.edu/zelig>\n",
    "    -   Documentation: <http://r.iq.harvard.edu/docs/zelig.pdf>\n",
    "-   Ameila\n",
    "    -   Website: <http://gking.harvard.edu/Amelia/>\n",
    "    -   Documetation: <http://r.iq.harvard.edu/docs/amelia/amelia.pdf>"
   ]
  }
 ],
 "metadata": {
        "kernelspec": {
            "display_name": "R",
            "language": "R",
            "name": "ir"
        },
        "language_info": {
            "codemirror_mode": "r",
            "file_extension": ".r",
            "mimetype": "text/x-r-source",
            "name": "R",
            "pygments_lexer": "r",
            "version": "3.2.3"
        }
    },
 "nbformat": 4,
 "nbformat_minor": 0
}
